{
  "metadata": {
    "kernelspec": {
      "name": "python",
      "display_name": "Python (Pyodide)",
      "language": "python"
    },
    "language_info": {
      "codemirror_mode": {
        "name": "python",
        "version": 3
      },
      "file_extension": ".py",
      "mimetype": "text/x-python",
      "name": "python",
      "nbconvert_exporter": "python",
      "pygments_lexer": "ipython3",
      "version": "3.8"
    }
  },
  "nbformat_minor": 5,
  "nbformat": 4,
  "cells": [
    {
      "id": "13c34c2e-cfda-497f-9030-338db526d024",
      "cell_type": "markdown",
      "source": "# Data Science Tools and Ecosystem",
      "metadata": {}
    },
    {
      "id": "b5d97d94-53bf-479a-9edd-b2698ecf337b",
      "cell_type": "markdown",
      "source": "In this notebooks, Data Science Tools and Ecosystem are summarized.",
      "metadata": {}
    },
    {
      "id": "7b0b7a0f-58c4-40f8-91b2-e2d288283b3c",
      "cell_type": "markdown",
      "source": "Some of the popular languages that Data Scientists use are:\n1. R\n2. Jupyter Notebooks\n3. SQL\n4. Python",
      "metadata": {}
    },
    {
      "id": "70020e28-8722-46c2-9f79-716d9eb1f8d1",
      "cell_type": "markdown",
      "source": "Some of the commonly used libraries used by Data Scientists include:\n1. Pandas\n2. TensorFlow\n3. Matplotlib",
      "metadata": {}
    },
    {
      "id": "fcf23064-f201-4dc7-b0af-627c10c41d8d",
      "cell_type": "markdown",
      "source": "Data Science Tools\n| Data Science Tools |\n| ----- |\n| R |\n| Python |\n| Apache Spark |\n| Jupyter Notebook |",
      "metadata": {}
    },
    {
      "id": "884cd975-8207-4783-9582-a1ca0a451f66",
      "cell_type": "markdown",
      "source": "### Below are a few examples of evaluating arithmetic expressions in python.",
      "metadata": {}
    },
    {
      "id": "353ef1cf-1b22-4116-ae70-72669be9c02d",
      "cell_type": "code",
      "source": "# This is a simple arithmetic expressiont o multiple then add integers\n(3*4)+5",
      "metadata": {
        "trusted": true
      },
      "outputs": [
        {
          "execution_count": 3,
          "output_type": "execute_result",
          "data": {
            "text/plain": "17"
          },
          "metadata": {}
        }
      ],
      "execution_count": 3
    },
    {
      "id": "651a567e-fedf-4472-9541-09e3e34d2bae",
      "cell_type": "code",
      "source": "# This will convert 200 minutes to house by dividing by 60\n200/60",
      "metadata": {
        "trusted": true
      },
      "outputs": [
        {
          "execution_count": 4,
          "output_type": "execute_result",
          "data": {
            "text/plain": "3.3333333333333335"
          },
          "metadata": {}
        }
      ],
      "execution_count": 4
    },
    {
      "id": "d5c03182-9d2b-45d4-b3b2-4911ef89acc4",
      "cell_type": "markdown",
      "source": "Objectives:\n* List popular languages for Data Science\n* Show arithmetic expressions\n* List commonly used libraries for Data Science",
      "metadata": {}
    },
    {
      "id": "bf1c62f6-8843-451f-82a7-4aece66869fc",
      "cell_type": "markdown",
      "source": "## Author \nJackie",
      "metadata": {}
    },
    {
      "id": "ddbe78d3-42fd-4f8d-8601-582c368a0b59",
      "cell_type": "code",
      "source": "",
      "metadata": {
        "trusted": true
      },
      "outputs": [],
      "execution_count": null
    }
  ]
}